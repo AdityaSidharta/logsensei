{
 "cells": [
  {
   "cell_type": "code",
   "execution_count": 1,
   "metadata": {},
   "outputs": [
    {
     "name": "stdout",
     "output_type": "stream",
     "text": [
      "/home/adityasidharta/git/logsensei\n"
     ]
    }
   ],
   "source": [
    "%cd /home/adityasidharta/git/logsensei"
   ]
  },
  {
   "cell_type": "code",
   "execution_count": 2,
   "metadata": {},
   "outputs": [],
   "source": [
    "import logsensei\n",
    "from logsensei import logger\n",
    "import pandas as pd\n",
    "import numpy as np"
   ]
  },
  {
   "cell_type": "code",
   "execution_count": 3,
   "metadata": {},
   "outputs": [
    {
     "name": "stderr",
     "output_type": "stream",
     "text": [
      "2019-10-27 11:12:14 | INFO | __main__:<module>:1 | Hello World\n",
      "2019-10-27 11:12:14 | WARNING | __main__:<module>:3 | Hello World\n",
      "2019-10-27 11:12:14 | ERROR | __main__:<module>:4 | Hello World\n",
      "2019-10-27 11:12:14 | CRITICAL | __main__:<module>:5 | Hello World\n"
     ]
    }
   ],
   "source": [
    "logger.info(\"Hello World\")\n",
    "logger.debug(\"Hello World\")\n",
    "logger.warning(\"Hello World\")\n",
    "logger.error(\"Hello World\")\n",
    "logger.critical(\"Hello World\")"
   ]
  },
  {
   "cell_type": "code",
   "execution_count": 4,
   "metadata": {},
   "outputs": [],
   "source": [
    "logger.setup('notebook', './examples/log', logsensei.DEBUG)"
   ]
  },
  {
   "cell_type": "code",
   "execution_count": 5,
   "metadata": {},
   "outputs": [
    {
     "name": "stderr",
     "output_type": "stream",
     "text": [
      "2019-10-27 11:12:26 | INFO | __main__:<module>:1 | Hello World\n",
      "2019-10-27 11:12:26 | WARNING | __main__:<module>:3 | Hello World\n",
      "2019-10-27 11:12:26 | ERROR | __main__:<module>:4 | Hello World\n",
      "2019-10-27 11:12:26 | CRITICAL | __main__:<module>:5 | Hello World\n"
     ]
    }
   ],
   "source": [
    "logger.info(\"Hello World\")\n",
    "logger.debug(\"Hello World\")\n",
    "logger.warning(\"Hello World\")\n",
    "logger.error(\"Hello World\")\n",
    "logger.critical(\"Hello World\")"
   ]
  },
  {
   "cell_type": "code",
   "execution_count": 6,
   "metadata": {},
   "outputs": [
    {
     "name": "stderr",
     "output_type": "stream",
     "text": [
      "2019-10-27 11:12:32 | INFO | __main__:<module>:2 | Hello Aditya\n"
     ]
    }
   ],
   "source": [
    "logger.create(\"template1\", \"Hello {}\")\n",
    "logger.apply(\"template1\", 'Aditya')"
   ]
  },
  {
   "cell_type": "code",
   "execution_count": 7,
   "metadata": {},
   "outputs": [],
   "source": [
    "df = pd.DataFrame({\n",
    "    'a': [1,2,3,4,np.nan],\n",
    "    'b': ['foo', 'bar', 'baz', np.nan, np.nan],\n",
    "    'c': [True, True, False, np.nan, np.nan],\n",
    "    'd': [1.0, 2.0, 3.0, 4.0, np.nan]\n",
    "})"
   ]
  },
  {
   "cell_type": "code",
   "execution_count": 8,
   "metadata": {},
   "outputs": [
    {
     "name": "stderr",
     "output_type": "stream",
     "text": [
      "2019-10-27 11:12:36 | INFO | __main__:<module>:1 | DataFrame sample_df shape : (5, 4)\n",
      "2019-10-27 11:12:36 | INFO | __main__:<module>:1 | DataFrame sample_df info:\n",
      "2019-10-27 11:12:36 | INFO | __main__:<module>:1 | a    4 non-null float64\n",
      "b    3 non-null object\n",
      "c    3 non-null object\n",
      "d    4 non-null float64\n"
     ]
    }
   ],
   "source": [
    "logger.df(df, \"sample_df\")"
   ]
  },
  {
   "cell_type": "code",
   "execution_count": 9,
   "metadata": {},
   "outputs": [
    {
     "name": "stderr",
     "output_type": "stream",
     "text": [
      "2019-10-27 11:12:47 | INFO | __main__:<module>:1 | Array d_array shape : (5,)\n",
      "2019-10-27 11:12:47 | INFO | __main__:<module>:1 | Array d_array unique values : {nan, 1.0, 2.0, 3.0, 4.0}\n",
      "2019-10-27 11:12:47 | INFO | __main__:<module>:1 | Array d_array cardinality : 5\n",
      "2019-10-27 11:12:47 | INFO | __main__:<module>:1 | Array d_array missing values : 1 (20.00%)\n",
      "2019-10-27 11:12:47 | INFO | __main__:<module>:1 | Array d_array info : MEAN=2.5 | STD=1.118033988749895 | MIN=1.0 | 25TH=1.75 | MEDIAN=2.5 | 75TH=3.25 | MAX=4.0\n"
     ]
    }
   ],
   "source": [
    "logger.array(df.d.values, 'd_array')"
   ]
  },
  {
   "cell_type": "code",
   "execution_count": null,
   "metadata": {},
   "outputs": [],
   "source": []
  }
 ],
 "metadata": {
  "kernelspec": {
   "display_name": "logsensei",
   "language": "python",
   "name": "logsensei"
  },
  "language_info": {
   "codemirror_mode": {
    "name": "ipython",
    "version": 3
   },
   "file_extension": ".py",
   "mimetype": "text/x-python",
   "name": "python",
   "nbconvert_exporter": "python",
   "pygments_lexer": "ipython3",
   "version": "3.7.2"
  },
  "toc": {
   "base_numbering": 1,
   "nav_menu": {},
   "number_sections": true,
   "sideBar": true,
   "skip_h1_title": false,
   "title_cell": "Table of Contents",
   "title_sidebar": "Contents",
   "toc_cell": false,
   "toc_position": {},
   "toc_section_display": true,
   "toc_window_display": false
  }
 },
 "nbformat": 4,
 "nbformat_minor": 2
}
